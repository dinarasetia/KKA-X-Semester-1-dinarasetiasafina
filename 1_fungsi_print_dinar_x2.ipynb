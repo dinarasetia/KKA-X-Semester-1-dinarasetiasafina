{
  "nbformat": 4,
  "nbformat_minor": 0,
  "metadata": {
    "colab": {
      "provenance": [],
      "include_colab_link": true
    },
    "kernelspec": {
      "name": "python3",
      "display_name": "Python 3"
    },
    "language_info": {
      "name": "python"
    }
  },
  "cells": [
    {
      "cell_type": "markdown",
      "metadata": {
        "id": "view-in-github",
        "colab_type": "text"
      },
      "source": [
        "<a href=\"https://colab.research.google.com/github/dinarasetia/KKA-X-Semester-1-dinarasetiasafina/blob/main/1_fungsi_print_dinar_x2.ipynb\" target=\"_parent\"><img src=\"https://colab.research.google.com/assets/colab-badge.svg\" alt=\"Open In Colab\"/></a>"
      ]
    },
    {
      "cell_type": "markdown",
      "source": [
        "nama:dinara setia safina\n",
        "\n",
        "kelas:X.2\n",
        "\n",
        "nomor absen:09"
      ],
      "metadata": {
        "id": "NXntFNbStqUy"
      }
    },
    {
      "cell_type": "markdown",
      "source": [],
      "metadata": {
        "id": "UoW1RyEc0v-l"
      }
    },
    {
      "cell_type": "code",
      "execution_count": null,
      "metadata": {
        "colab": {
          "base_uri": "https://localhost:8080/"
        },
        "id": "9-OY6gwatB2d",
        "outputId": "5330fbeb-4096-430b-b4a6-c588ac4e57a7"
      },
      "outputs": [
        {
          "output_type": "stream",
          "name": "stdout",
          "text": [
            "halo word\n"
          ]
        }
      ],
      "source": [
        "print(\"halo word\")"
      ]
    },
    {
      "cell_type": "markdown",
      "source": [],
      "metadata": {
        "id": "kNEA7_r200kU"
      }
    },
    {
      "cell_type": "code",
      "source": [
        "print(\"dinara setia safina\")"
      ],
      "metadata": {
        "colab": {
          "base_uri": "https://localhost:8080/"
        },
        "id": "iBCuZI_PwcTU",
        "outputId": "91b6d4ac-76dd-400f-84d4-edf54611f7c5"
      },
      "execution_count": null,
      "outputs": [
        {
          "output_type": "stream",
          "name": "stdout",
          "text": [
            "dinara setia safina\n"
          ]
        }
      ]
    },
    {
      "cell_type": "markdown",
      "source": [
        "#menampilkan nilai variabel"
      ],
      "metadata": {
        "id": "unh_mfrOw2Uk"
      }
    },
    {
      "cell_type": "code",
      "source": [
        "berat_badan = 47\n",
        "\n",
        "print(berat_badan)"
      ],
      "metadata": {
        "colab": {
          "base_uri": "https://localhost:8080/"
        },
        "id": "Cjuh9nt0xETI",
        "outputId": "6a888e5a-bf06-45da-ada7-70b22a6c5d09"
      },
      "execution_count": null,
      "outputs": [
        {
          "output_type": "stream",
          "name": "stdout",
          "text": [
            "47\n"
          ]
        }
      ]
    },
    {
      "cell_type": "code",
      "source": [
        "nama = \"dinar\"\n",
        "print(\"dinar\")"
      ],
      "metadata": {
        "colab": {
          "base_uri": "https://localhost:8080/"
        },
        "id": "8IxTRYSbxwbL",
        "outputId": "a5a14fb7-5e02-4b88-8752-143e51ccb676"
      },
      "execution_count": null,
      "outputs": [
        {
          "output_type": "stream",
          "name": "stdout",
          "text": [
            "dinar\n"
          ]
        }
      ]
    },
    {
      "cell_type": "code",
      "source": [
        "usia = print(\"17\")"
      ],
      "metadata": {
        "colab": {
          "base_uri": "https://localhost:8080/"
        },
        "id": "8oDKgm2GyMrU",
        "outputId": "886a23d7-e74c-489f-c959-c8db34e0ca93"
      },
      "execution_count": null,
      "outputs": [
        {
          "output_type": "stream",
          "name": "stdout",
          "text": [
            "17\n"
          ]
        }
      ]
    },
    {
      "cell_type": "markdown",
      "source": [
        "#menampilkan teks bebas dan nilai variabel"
      ],
      "metadata": {
        "id": "Pv4WjZWzyrPi"
      }
    },
    {
      "cell_type": "code",
      "source": [
        "print(\"berat badan saya adalah\",berat_badan,\"kg\")"
      ],
      "metadata": {
        "colab": {
          "base_uri": "https://localhost:8080/"
        },
        "id": "TcdwYQrByyIx",
        "outputId": "0a4745ef-5d10-443f-894c-3051304c8250"
      },
      "execution_count": null,
      "outputs": [
        {
          "output_type": "stream",
          "name": "stdout",
          "text": [
            "berat badan saya adalah 47 kg\n"
          ]
        }
      ]
    },
    {
      "cell_type": "code",
      "source": [
        "print(\"perkenalkan nama saya\", nama,\".\")"
      ],
      "metadata": {
        "colab": {
          "base_uri": "https://localhost:8080/"
        },
        "id": "0kFTCt2Fznes",
        "outputId": "2c80e4c4-e684-4baf-94e6-f136d0254fbf"
      },
      "execution_count": null,
      "outputs": [
        {
          "output_type": "stream",
          "name": "stdout",
          "text": [
            "perkenalkan nama saya dinar .\n"
          ]
        }
      ]
    },
    {
      "cell_type": "code",
      "source": [
        "print(\"perkenalkan nama saya,\" + nama + \".\")"
      ],
      "metadata": {
        "colab": {
          "base_uri": "https://localhost:8080/"
        },
        "id": "p8rld7Ul0oV1",
        "outputId": "2522117a-fd4e-46ec-ad2f-924639718372"
      },
      "execution_count": null,
      "outputs": [
        {
          "output_type": "stream",
          "name": "stdout",
          "text": [
            "perkenalkan nama saya,dinar.\n"
          ]
        }
      ]
    },
    {
      "cell_type": "code",
      "source": [
        "print(\"berat badan saya adalah\" + str(berat_badan) + \"kg.\")"
      ],
      "metadata": {
        "colab": {
          "base_uri": "https://localhost:8080/"
        },
        "id": "MssFCq7E2VP6",
        "outputId": "4b7378fe-d891-49ef-bc08-921577baad82"
      },
      "execution_count": null,
      "outputs": [
        {
          "output_type": "stream",
          "name": "stdout",
          "text": [
            "berat badan saya adalah47kg.\n"
          ]
        }
      ]
    },
    {
      "cell_type": "code",
      "source": [
        "print(f\"perkenalkan nama saya {nama}.\")"
      ],
      "metadata": {
        "colab": {
          "base_uri": "https://localhost:8080/"
        },
        "id": "O3_4vtpn24a-",
        "outputId": "1150b9e9-e85c-4bfe-c8c8-49d408276a4b"
      },
      "execution_count": null,
      "outputs": [
        {
          "output_type": "stream",
          "name": "stdout",
          "text": [
            "perkenalkan nama saya dinar.\n"
          ]
        }
      ]
    },
    {
      "cell_type": "code",
      "source": [
        "print(f\"berat badan saya {berat_badan}.\")"
      ],
      "metadata": {
        "colab": {
          "base_uri": "https://localhost:8080/"
        },
        "id": "8o2h7WX13f4l",
        "outputId": "36734e94-702b-423c-ed32-48061873f77b"
      },
      "execution_count": null,
      "outputs": [
        {
          "output_type": "stream",
          "name": "stdout",
          "text": [
            "berat badan saya 47.\n"
          ]
        }
      ]
    },
    {
      "cell_type": "markdown",
      "source": [],
      "metadata": {
        "id": "9H1q0xc-2rYO"
      }
    },
    {
      "cell_type": "markdown",
      "source": [
        "#escape character"
      ],
      "metadata": {
        "id": "oTroUsHy3NLx"
      }
    },
    {
      "cell_type": "code",
      "source": [
        "print(\"nama:dinara setia\\tkelas:x.2\\nabsen:09\")"
      ],
      "metadata": {
        "colab": {
          "base_uri": "https://localhost:8080/"
        },
        "id": "rPCiyr0S2CzX",
        "outputId": "d4a47f46-1cfb-4824-dca2-9b1110600be9"
      },
      "execution_count": null,
      "outputs": [
        {
          "output_type": "stream",
          "name": "stdout",
          "text": [
            "nama:dinara setia\tkelas:x.2\n",
            "absen:09\n"
          ]
        }
      ]
    },
    {
      "cell_type": "code",
      "source": [
        "print(\"nama: dinara setia\")\n",
        "print(\"kelas: x.2\")\n",
        "print(\"absen:09\")"
      ],
      "metadata": {
        "colab": {
          "base_uri": "https://localhost:8080/"
        },
        "id": "HyDVaTX42tk8",
        "outputId": "19fc712e-425e-4cdb-8c4f-a0917c09ae77"
      },
      "execution_count": null,
      "outputs": [
        {
          "output_type": "stream",
          "name": "stdout",
          "text": [
            "nama: dinara setia\n",
            "kelas: x.2\n",
            "absen:09\n"
          ]
        }
      ]
    },
    {
      "cell_type": "code",
      "source": [
        "print(\"\"\"nama: dinara setia\n",
        "kelas: x.2\n",
        "absen: 09\"\"\")"
      ],
      "metadata": {
        "colab": {
          "base_uri": "https://localhost:8080/"
        },
        "id": "GycNM_6W27tv",
        "outputId": "534ef74d-267a-4a84-fbaf-29d08e080e81"
      },
      "execution_count": null,
      "outputs": [
        {
          "output_type": "stream",
          "name": "stdout",
          "text": [
            "nama: dinara setia\n",
            "kelas: x.2\n",
            "absen: 09\n"
          ]
        }
      ]
    },
    {
      "cell_type": "code",
      "source": [
        "print(\"nama\\t: dinara setia\\nkelas\\t: x.2\\nabsen\\t: 09\")"
      ],
      "metadata": {
        "colab": {
          "base_uri": "https://localhost:8080/"
        },
        "id": "q23BlJwj6K-U",
        "outputId": "efff8d53-5533-422a-a06f-b7d76226a0aa"
      },
      "execution_count": null,
      "outputs": [
        {
          "output_type": "stream",
          "name": "stdout",
          "text": [
            "nama\t: dinara setia\n",
            "kelas\t: x.2\n",
            "absen\t: 09\n"
          ]
        }
      ]
    },
    {
      "cell_type": "markdown",
      "source": [
        "menampilkan teks bebas"
      ],
      "metadata": {
        "id": "B_P8zZGiunpr"
      }
    },
    {
      "cell_type": "code",
      "source": [
        "print(\"Jadwal Pelajaran Mingguan\")"
      ],
      "metadata": {
        "id": "H2D_0QgmRKtg",
        "outputId": "69d0d9c0-10de-446b-88aa-309b853285a7",
        "colab": {
          "base_uri": "https://localhost:8080/"
        }
      },
      "execution_count": null,
      "outputs": [
        {
          "output_type": "stream",
          "name": "stdout",
          "text": [
            "Jadwal Pelajaran Mingguan\n"
          ]
        }
      ]
    },
    {
      "cell_type": "code",
      "source": [
        "print(\"===============================\")"
      ],
      "metadata": {
        "id": "4xYZqLyRRXg6",
        "outputId": "0851fd0d-d621-4b4d-e397-b8a000eb9a7f",
        "colab": {
          "base_uri": "https://localhost:8080/"
        }
      },
      "execution_count": null,
      "outputs": [
        {
          "output_type": "stream",
          "name": "stdout",
          "text": [
            "===============================\n"
          ]
        }
      ]
    },
    {
      "cell_type": "code",
      "source": [
        "print(\"Jam1\\tMatematika\\tBahasa\\t\\tInformatika\")"
      ],
      "metadata": {
        "id": "usy9A1JZRijt",
        "outputId": "35d93653-df24-47e6-d3f0-27351d71616d",
        "colab": {
          "base_uri": "https://localhost:8080/"
        }
      },
      "execution_count": null,
      "outputs": [
        {
          "output_type": "stream",
          "name": "stdout",
          "text": [
            "Jam1\tMatematika\tBahasa\t\tInformatika\n"
          ]
        }
      ]
    },
    {
      "cell_type": "code",
      "source": [
        "print(\"Jam 2\\tBahasa Ing.\\tSejarah\\t\\tMa\\'rifatullah\")"
      ],
      "metadata": {
        "id": "A23rwX0MRn6Z",
        "outputId": "cdad21f9-8d9c-41b9-fd52-401911ad4a3f",
        "colab": {
          "base_uri": "https://localhost:8080/"
        }
      },
      "execution_count": null,
      "outputs": [
        {
          "output_type": "stream",
          "name": "stdout",
          "text": [
            "Jam 2\tBahasa Ing.\tSejarah\t\tMa'rifatullah\n"
          ]
        }
      ]
    },
    {
      "cell_type": "code",
      "source": [
        "print(\"Jam3\\tInformatika\\tOlahraga\\tBiologi\")"
      ],
      "metadata": {
        "id": "BY4E2jDURrkr",
        "outputId": "a927554d-94b7-4b70-99ee-e0de36fd95c2",
        "colab": {
          "base_uri": "https://localhost:8080/"
        }
      },
      "execution_count": null,
      "outputs": [
        {
          "output_type": "stream",
          "name": "stdout",
          "text": [
            "Jam3\tInformatika\tOlahraga\tBiologi\n"
          ]
        }
      ]
    },
    {
      "cell_type": "markdown",
      "source": [],
      "metadata": {
        "id": "Yl6pSvwmRvva"
      }
    },
    {
      "cell_type": "code",
      "source": [
        "print(\"Jadwal Pelajaran Mingguan\")\n",
        "print(\"===============================\")\n",
        "print(\"Jam\\tSenin\\t\\tSelasa\\t\\tRabu\")\n",
        "print(\"Jam 1\\tMatematika\\tBahasa\\t\\tInformatika\")\n",
        "print(\"Jam 2\\tBahasa Ing.\\tSejarah\\t\\tMa\\'rifatullah\")\n",
        "print(\"Jam 3\\tInformatika\\tOlahraga\\tBiologi\")"
      ],
      "metadata": {
        "id": "To90XSwzR0Rh",
        "outputId": "5ac05c1b-f8d0-4004-e3d0-19f366ba5ce0",
        "colab": {
          "base_uri": "https://localhost:8080/"
        }
      },
      "execution_count": null,
      "outputs": [
        {
          "output_type": "stream",
          "name": "stdout",
          "text": [
            "Jadwal Pelajaran Mingguan\n",
            "===============================\n",
            "Jam\tSenin\t\tSelasa\t\tRabu\n",
            "Jam 1\tMatematika\tBahasa\t\tInformatika\n",
            "Jam 2\tBahasa Ing.\tSejarah\t\tMa'rifatullah\n",
            "Jam 3\tInformatika\tOlahraga\tBiologi\n"
          ]
        }
      ]
    },
    {
      "cell_type": "markdown",
      "source": [
        "#parameter fungsi print"
      ],
      "metadata": {
        "id": "ygp9RuqI03J9"
      }
    },
    {
      "cell_type": "code",
      "source": [
        "nama_siswa_1=\"jielo\"\n",
        "nama_siswa_2=\"aida\"\n",
        "nama_siswa_3=\"dani\"\n",
        "nama_siswa_4=\"nurul\"\n",
        "\n",
        "print(nama_siswa_4, end=\"/\")\n",
        "print(nama_siswa_2, end=\"/\")\n",
        "print(nama_siswa_1, end=\"/\")\n",
        "print(nama_siswa_3, end=\"/\")"
      ],
      "metadata": {
        "colab": {
          "base_uri": "https://localhost:8080/"
        },
        "id": "1Hi8KSMa1E1_",
        "outputId": "69d2b47d-f63c-45d1-8d4c-9e0a4c6689d6"
      },
      "execution_count": null,
      "outputs": [
        {
          "output_type": "stream",
          "name": "stdout",
          "text": [
            "nurul/aida/jielo/dani/"
          ]
        }
      ]
    },
    {
      "cell_type": "code",
      "source": [
        "nama_siswa_5=\"hasbi\"\n",
        "nama_siswa_6=\"habibi\"\n",
        "nama_siswa_7=\"rendra\"\n",
        "nama_siswa_8=\"naufal\"\n",
        "\n",
        "print(nama_siswa_5, nama_siswa_8, nama_siswa_6, nama_siswa_7, nama_siswa_8, sep=\"*\")"
      ],
      "metadata": {
        "colab": {
          "base_uri": "https://localhost:8080/"
        },
        "id": "vW1LfXdL4SrG",
        "outputId": "6d909e8c-ea26-4e82-e68e-605f695f1496"
      },
      "execution_count": null,
      "outputs": [
        {
          "output_type": "stream",
          "name": "stdout",
          "text": [
            "hasbi*naufal*habibi*rendra*naufal\n"
          ]
        }
      ]
    },
    {
      "cell_type": "code",
      "source": [
        "print('bu shinta berkata,\"berikut adalah daftar piket harian kelas x.2 yang disimpan di film D:\\\\MAN demak\\\\jadwal piket.\"')\n",
        "print('senin\\tselasa\\trabu')\n",
        "print('jielo\\thasbi\\tnaufal')\n",
        "print('azzam\\taida\\tnurul')"
      ],
      "metadata": {
        "colab": {
          "base_uri": "https://localhost:8080/"
        },
        "id": "-ZVsMaEN9H6J",
        "outputId": "fe10117e-1c45-45b5-bcd8-f099f67a505e"
      },
      "execution_count": null,
      "outputs": [
        {
          "output_type": "stream",
          "name": "stdout",
          "text": [
            "bu shinta berkata,\"berikut adalah daftar piket harian kelas x.2 yang disimpan di film D:\\MAN demak\\jadwal piket.\"\n",
            "senin\tselasa\trabu\n",
            "jielo\thasbi\tnaufal\n",
            "azzam\taida\tnurul\n"
          ]
        }
      ]
    }
  ]
}